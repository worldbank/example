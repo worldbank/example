{
 "cells": [
  {
   "cell_type": "markdown",
   "id": "dda38dcb-16c3-4d6c-839f-8fe06a52395f",
   "metadata": {},
   "source": [
    "# Hello World!"
   ]
  },
  {
   "cell_type": "code",
   "execution_count": 4,
   "id": "327068a2-9e54-46b4-b25e-511168867d81",
   "metadata": {},
   "outputs": [],
   "source": [
    "from template.example import hello"
   ]
  },
  {
   "cell_type": "code",
   "execution_count": 3,
   "id": "9dcd1e49-f397-4c79-9a4a-593b5c3fe146",
   "metadata": {},
   "outputs": [
    {
     "data": {
      "text/plain": [
       "'Hello World!'"
      ]
     },
     "execution_count": 3,
     "metadata": {},
     "output_type": "execute_result"
    }
   ],
   "source": [
    "hello()"
   ]
  }
 ],
 "metadata": {
  "kernelspec": {
   "display_name": "Python 3 (ipykernel)",
   "language": "python",
   "name": "python3"
  },
  "language_info": {
   "codemirror_mode": {
    "name": "ipython",
    "version": 3
   },
   "file_extension": ".py",
   "mimetype": "text/x-python",
   "name": "python",
   "nbconvert_exporter": "python",
   "pygments_lexer": "ipython3",
   "version": "3.12.4"
  }
 },
 "nbformat": 4,
 "nbformat_minor": 5
}
